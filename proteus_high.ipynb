{
 "cells": [
  {
   "cell_type": "code",
   "execution_count": null,
   "id": "3fbbbe25",
   "metadata": {
    "tags": []
   },
   "outputs": [],
   "source": [
    "import numpy as np\n",
    "import scipy as sp\n",
    "import torch\n",
    "import time"
   ]
  },
  {
   "cell_type": "code",
   "execution_count": null,
   "id": "af04315b",
   "metadata": {
    "tags": []
   },
   "outputs": [],
   "source": [
    "import igl"
   ]
  },
  {
   "cell_type": "code",
   "execution_count": null,
   "id": "3268f188",
   "metadata": {
    "tags": []
   },
   "outputs": [],
   "source": [
    "import rig.riglogic as rl"
   ]
  },
  {
   "cell_type": "code",
   "execution_count": null,
   "id": "d85d7b28-d548-4014-bf4f-425883b038ec",
   "metadata": {
    "tags": []
   },
   "outputs": [],
   "source": [
    "device = 'cuda' if torch.cuda.is_available() else 'cpu'"
   ]
  },
  {
   "cell_type": "code",
   "execution_count": null,
   "id": "10ca2d97",
   "metadata": {
    "tags": []
   },
   "outputs": [],
   "source": [
    "npb = np.load(\"in/proteus.npz\", allow_pickle=True)"
   ]
  },
  {
   "cell_type": "code",
   "execution_count": null,
   "id": "5ec39d7c-9fbd-4a13-9df4-85b846e201fc",
   "metadata": {
    "tags": []
   },
   "outputs": [],
   "source": [
    "n_bs = npb['deltas'].shape[0]"
   ]
  },
  {
   "cell_type": "code",
   "execution_count": null,
   "id": "8dd60b47-2b2b-4698-b166-51425ea89d9e",
   "metadata": {
    "tags": []
   },
   "outputs": [],
   "source": [
    "npb['deltas'].shape"
   ]
  },
  {
   "cell_type": "code",
   "execution_count": null,
   "id": "26c8e566-d8a1-4346-a95a-ba8600d051a0",
   "metadata": {
    "tags": []
   },
   "outputs": [],
   "source": [
    "deltas = npb['deltas'].transpose(1, 0, 2).reshape(-1, n_bs*3).transpose()"
   ]
  },
  {
   "cell_type": "code",
   "execution_count": null,
   "id": "fa24dc29-3155-468d-88b3-dfb957d9e9eb",
   "metadata": {
    "tags": []
   },
   "outputs": [],
   "source": [
    "deltas.shape"
   ]
  },
  {
   "cell_type": "code",
   "execution_count": null,
   "id": "7e6dbc02",
   "metadata": {
    "tags": []
   },
   "outputs": [],
   "source": [
    "A = torch.from_numpy(deltas).float().to(device)"
   ]
  },
  {
   "cell_type": "code",
   "execution_count": null,
   "id": "03e1d5d9",
   "metadata": {
    "tags": []
   },
   "outputs": [],
   "source": [
    "M = A.shape[0]\n",
    "N = A.shape[1]"
   ]
  },
  {
   "cell_type": "code",
   "execution_count": null,
   "id": "1ba86451",
   "metadata": {
    "lines_to_next_cell": 1,
    "tags": []
   },
   "outputs": [],
   "source": [
    "N, M"
   ]
  },
  {
   "cell_type": "code",
   "execution_count": null,
   "id": "55c6d4ad",
   "metadata": {
    "lines_to_next_cell": 1,
    "tags": []
   },
   "outputs": [],
   "source": [
    "def buildTR(device):\n",
    "    ebase = torch.tensor([[[0, 0,  0, 0],\n",
    "                           [0, 0, -1, 0],\n",
    "                           [0, 1,  0, 0]],\n",
    "\n",
    "                          [[ 0, 0, 1, 0],\n",
    "                           [ 0, 0, 0, 0],\n",
    "                           [-1, 0, 0, 0]],\n",
    "\n",
    "                          [[0, -1, 0, 0],\n",
    "                           [1,  0, 0, 0],\n",
    "                           [0,  0, 0, 0]],\n",
    "\n",
    "                          [[0, 0, 0, 1],\n",
    "                           [0, 0, 0, 0],\n",
    "                           [0, 0, 0, 0]],\n",
    "\n",
    "                          [[0, 0, 0, 0],\n",
    "                           [0, 0, 0, 1],\n",
    "                           [0, 0, 0, 0]],\n",
    "\n",
    "                          [[0, 0, 0, 0],\n",
    "                           [0, 0, 0, 0],\n",
    "                           [0, 0, 0, 1]]], dtype=torch.float32).to(device)\n",
    "    return ebase.reshape(6, 1, 1, 3, 4)"
   ]
  },
  {
   "cell_type": "code",
   "execution_count": null,
   "id": "65a13158",
   "metadata": {
    "tags": []
   },
   "outputs": [],
   "source": [
    "quads = npb['rest_faces']\n",
    "rest = npb['rest_verts']"
   ]
  },
  {
   "cell_type": "code",
   "execution_count": null,
   "id": "64428e3f",
   "metadata": {
    "tags": []
   },
   "outputs": [],
   "source": [
    "import scipy as sp\n",
    "adj = igl.adjacency_matrix(quads)\n",
    "adj_diag = np.array(np.sum(adj, axis=1)).squeeze()\n",
    "Lg = sp.sparse.diags(1 / adj_diag) @ (adj - sp.sparse.diags( adj_diag ))\n",
    "L = torch.from_numpy((Lg).todense()).float().to(device).to_sparse()"
   ]
  },
  {
   "cell_type": "code",
   "execution_count": null,
   "id": "1837d4a0",
   "metadata": {
    "tags": []
   },
   "outputs": [],
   "source": [
    "loss_list, abserr_list = [], []"
   ]
  },
  {
   "cell_type": "code",
   "execution_count": null,
   "id": "102e6d21",
   "metadata": {},
   "outputs": [],
   "source": [
    "def compBX(Wn, Brt, TR, n_bs, P):\n",
    "    # calculates Linear Blend Skinning\n",
    "    # Wn ∈ PxN   (numBones x numVertices)\n",
    "    # Brt - 6 degree of freedom  per blendshape per bone  (6, n_bs, numBones, 1, 1)\n",
    "    # TR  - 6 base matrices (n_bx, numBones, 3, 4)[6]  one per degree of freedom these are used to convert Brt to B\n",
    "    # rest_pose  ∈ nx4\n",
    "    # X :  rest_pose.p * weight\n",
    "    #         vertex...vertex\n",
    "    #            0      N\n",
    "    #         ┌           ┐\n",
    "    # bone0  x│┌───┐      │\n",
    "    #        y││  →│...   │\n",
    "    #        z││w*p│      │\n",
    "    #        w│└───┘      │\n",
    "    # bone1  x│           │\n",
    "    #        y│           │\n",
    "    #        z│           │\n",
    "    #        w│           │\n",
    "    #         ┆           ┆\n",
    "    # boneP  w│           │\n",
    "    #         └           ┘\n",
    "    X = (Wn.unsqueeze(2) * rest_pose).permute(0, 2, 1).reshape(4*P, -1)\n",
    "    B = Brt[0, ...] * TR[0]\n",
    "    for i in range(1, 6):\n",
    "        B += Brt[i, ...] * TR[i]\n",
    "    B = B.permute(0, 2, 1, 3).reshape(n_bs*3, P*4)\n",
    "    # B current bone transforms\n",
    "    #               bone 0... bone N\n",
    "    #                0123     0123\n",
    "    #              ┌               ┐\n",
    "    # blendshape0 0│┌────┐   ┌────┐│\n",
    "    #             1││TM  │...│TM  ││\n",
    "    #             2│└────┘   └────┘│\n",
    "    # blendshape1 0│┌────┐   ┌────┐│\n",
    "    #             1││TM  │...│TM  ││\n",
    "    #             2│└────┘   └────┘│\n",
    "    #              │               │\n",
    "    #              ┆               ┆\n",
    "    #              └               ┘\n",
    "    return B @ X, B, X"
   ]
  },
  {
   "cell_type": "code",
   "execution_count": null,
   "id": "1adc71c9",
   "metadata": {
    "tags": []
   },
   "outputs": [],
   "source": [
    "def train(num_iter, power, alpha, beta = None, normalizeW = False):\n",
    "\n",
    "    global Brt, W\n",
    "\n",
    "    st = time.time()\n",
    "    for i in range(num_iter):\n",
    "\n",
    "        if normalizeW:\n",
    "            Wn = W / W.sum(axis = 0)\n",
    "        else:\n",
    "            Wn = W\n",
    "\n",
    "        BX, _, _ = compBX(Wn, Brt, TR, n_bs, P)\n",
    "        weighed_error = BX - A\n",
    "\n",
    "        if beta is not None:\n",
    "            weighed_error[:, salient_verts] *= beta\n",
    "\n",
    "        loss = weighed_error.pow(power).mean().pow(2 / power)\n",
    "        if alpha is not None:\n",
    "            # add Laplacian regularization term\n",
    "            loss += alpha * (L @ (BX).transpose(0,1)).pow(2).mean()\n",
    "\n",
    "        optimizer.zero_grad()\n",
    "        loss.backward()\n",
    "        optimizer.step()\n",
    "\n",
    "        with torch.no_grad():\n",
    "            Wcutoff = torch.topk(W, max_influences + 1, dim=0).values[-1, :]\n",
    "            Wmask = (W > Wcutoff)\n",
    "            Wpruned = Wmask * W\n",
    "            W.copy_(Wpruned)\n",
    "            W.clamp_(min = 0)\n",
    "\n",
    "            # Bdecider = Brt.abs()\n",
    "            # Bcutoff = torch.topk(Bdecider.flatten(), total_nnz_Brt).values[-1]\n",
    "            # Bmask = (Bdecider > Bcutoff)\n",
    "            # Bpruned = Bmask * Brt\n",
    "            # Brt.copy_(Bpruned)                  \n",
    "\n",
    "        if i % 200 == 0:\n",
    "            BX, _, _ = compBX(Wn, Brt, TR, n_bs, P)\n",
    "            trunc_err = (BX - A).abs().max().item()\n",
    "\n",
    "            if device == 'cuda':\n",
    "                torch.cuda.synchronize()\n",
    "\n",
    "            print(f\"{i:05d}({time.time() - st:.3f}) {loss.item():.5e} {trunc_err:.5e} {(Brt.abs() > 1e-4).count_nonzero().item()} {(W.abs() > 1e-4).count_nonzero().item()}\")\n",
    "            loss_list.append(loss.item())\n",
    "            abserr_list.append(trunc_err)\n",
    "\n",
    "            st = time.time()"
   ]
  },
  {
   "cell_type": "code",
   "execution_count": null,
   "id": "429a3f6e-9c6b-4691-a124-38d3b63d4df8",
   "metadata": {},
   "outputs": [],
   "source": []
  },
  {
   "cell_type": "code",
   "execution_count": null,
   "id": "c36f687a",
   "metadata": {},
   "outputs": [],
   "source": [
    "seed = 12345\n",
    "P = 200\n",
    "max_influences = 32\n",
    "#total_nnz_Brt = 6000\n",
    "\n",
    "init_weight = 1e-3"
   ]
  },
  {
   "cell_type": "code",
   "execution_count": null,
   "id": "76cb8049",
   "metadata": {},
   "outputs": [],
   "source": [
    "TR = buildTR(device)\n",
    "# Brt - 6 degree of freedom  per blendshape per bone  (6, numBlendshapes, numBones, 1, 1)\n",
    "Brt = (init_weight * torch.randn((6, n_bs, P, 1, 1))).clone().float().to(device).requires_grad_()"
   ]
  },
  {
   "cell_type": "code",
   "execution_count": null,
   "id": "244e14c8-2ac9-4552-8c2d-5cfa9f284606",
   "metadata": {
    "tags": []
   },
   "outputs": [],
   "source": [
    "def add_homog_coordinate(M, dim):\n",
    "    x = list(M.shape)\n",
    "    x[dim] = 1\n",
    "    return np.concatenate([M, np.ones(x)], axis=dim).astype(M.dtype)"
   ]
  },
  {
   "cell_type": "code",
   "execution_count": null,
   "id": "6fbefd86",
   "metadata": {},
   "outputs": [],
   "source": [
    "rest_centered = rest - rest.mean(axis=0)\n",
    "# rest_pose  nx4 aray of vertices (with forth column 1)\n",
    "rest_pose = torch.from_numpy(add_homog_coordinate(rest_centered, 1)).float().to(device)\n",
    "# W PxN (numBonex x numVertices) weights one per vertex per bone\n",
    "W = (1e-8 * torch.randn(P, N)).clone().float().to(device).requires_grad_()"
   ]
  },
  {
   "cell_type": "code",
   "execution_count": null,
   "id": "81acecae",
   "metadata": {
    "tags": []
   },
   "outputs": [],
   "source": [
    "power = 12\n",
    "alpha = 5\n",
    "beta = None\n",
    "param_list = [Brt, W]"
   ]
  },
  {
   "cell_type": "code",
   "execution_count": null,
   "id": "23346439",
   "metadata": {
    "scrolled": true,
    "tags": []
   },
   "outputs": [],
   "source": [
    "optimizer = torch.optim.Adam(param_list, lr = 1e-3, betas = (0.9, 0.9))\n",
    "train(10000, power = power, alpha = alpha, beta = beta, normalizeW = False)"
   ]
  },
  {
   "cell_type": "code",
   "execution_count": null,
   "id": "c5d00784",
   "metadata": {
    "scrolled": true,
    "tags": []
   },
   "outputs": [],
   "source": [
    "optimizer = torch.optim.Adam(param_list, lr = 1e-3, betas = (0.9, 0.9))\n",
    "train(10000, power = power, alpha = alpha, beta = beta, normalizeW = True)"
   ]
  },
  {
   "cell_type": "code",
   "execution_count": null,
   "id": "d85e7b7f-fba4-4523-aad2-6342ed0e442e",
   "metadata": {
    "scrolled": true,
    "tags": []
   },
   "outputs": [],
   "source": [
    "optimizer.param_groups[0]['lr'] = 1e-4\n",
    "train(480000, power = power, alpha = alpha, beta = beta, normalizeW = True)"
   ]
  },
  {
   "cell_type": "code",
   "execution_count": null,
   "id": "197229db",
   "metadata": {},
   "outputs": [],
   "source": [
    "Brt.shape"
   ]
  },
  {
   "cell_type": "code",
   "execution_count": null,
   "id": "731367a6",
   "metadata": {
    "tags": []
   },
   "outputs": [],
   "source": [
    "Brt.count_nonzero().item()"
   ]
  },
  {
   "cell_type": "code",
   "execution_count": null,
   "id": "c08241f3-eb3e-47c4-9c98-e28b89cb7606",
   "metadata": {
    "tags": []
   },
   "outputs": [],
   "source": [
    "def npf(T):\n",
    "    return T.detach().cpu().numpy()"
   ]
  },
  {
   "cell_type": "code",
   "execution_count": null,
   "id": "fbade909",
   "metadata": {
    "tags": []
   },
   "outputs": [],
   "source": [
    "Wn = (W / W.sum(axis = 0))\n",
    "print(Wn.min().item(), Wn.max().item())\n",
    "BX, _, _ = compBX(Wn, Brt, TR, n_bs, P)\n",
    "orig_deltas = npf(A.transpose(1, 0).reshape(-1, n_bs, 3))\n",
    "our_deltas = npf(BX.transpose(1, 0).reshape(-1, n_bs, 3))"
   ]
  },
  {
   "cell_type": "code",
   "execution_count": null,
   "id": "0ad81d07",
   "metadata": {
    "tags": []
   },
   "outputs": [],
   "source": [
    "np.abs(orig_deltas - our_deltas).max()"
   ]
  },
  {
   "cell_type": "code",
   "execution_count": null,
   "id": "29250bc5",
   "metadata": {
    "tags": []
   },
   "outputs": [],
   "source": [
    "np.abs(orig_deltas - our_deltas).mean()"
   ]
  },
  {
   "cell_type": "code",
   "execution_count": null,
   "id": "0bb801c3-cc3d-498a-92e4-883f5f10e293",
   "metadata": {
    "tags": []
   },
   "outputs": [],
   "source": [
    "inbetween_dict = npb[\"inbetween_info\"].item()\n",
    "corrective_dict = npb[\"combination_info\"].item()\n",
    "\n",
    "test_anim = np.load(\"in/test_anim.npz\")\n",
    "\n",
    "# anim_weights num_frames x num_blendshapes\n",
    "# one weight per blendshape per frame\n",
    "anim_weights = rl.compute_rig_logic(torch.from_numpy(test_anim['weights'][:, :72]).float(), inbetween_dict, corrective_dict).numpy()"
   ]
  },
  {
   "cell_type": "code",
   "execution_count": null,
   "id": "74399bf8-4dc2-4ee2-bfa7-0af6bb859224",
   "metadata": {
    "tags": []
   },
   "outputs": [],
   "source": [
    "num_frames = anim_weights.shape[0]\n",
    "print(num_frames, anim_weights.shape[1])"
   ]
  },
  {
   "cell_type": "code",
   "execution_count": null,
   "id": "3f3b01c5-7ce2-4f9a-8b6d-ec22e41d5a7b",
   "metadata": {
    "tags": []
   },
   "outputs": [],
   "source": [
    "_, B,_ = compBX(Wn, Brt, TR, n_bs, P)"
   ]
  },
  {
   "cell_type": "code",
   "execution_count": null,
   "id": "7cb5674c-09c9-4310-9715-f19f5a48b894",
   "metadata": {
    "tags": []
   },
   "outputs": [],
   "source": [
    "shapeXforms = B.detach().cpu().numpy()"
   ]
  },
  {
   "cell_type": "code",
   "execution_count": null,
   "id": "29cde52b-e866-451d-998d-c450e1768aba",
   "metadata": {
    "tags": []
   },
   "outputs": [],
   "source": [
    "def generateXforms(weights, shapeXforms):\n",
    "    # weights ... (num_shapes, 1), output of riglogic\n",
    "    # shapeXforms ... (3*num_shapes, 4*num_proxy_bones) matrix\n",
    "    # returns: (num_proxy_bones, 3, 4) skinning transforms, input to skinCluster\n",
    "\n",
    "    nShapes = weights.shape[0]\n",
    "    nBones = shapeXforms.shape[1] // 4\n",
    "    Z = weights.reshape(1, 1, nShapes) * np.dstack([np.eye(3)] * nShapes)\n",
    "    # Z:\n",
    "    # ┌      ┐┌      ┐┌      ┐\n",
    "    # │w₁   0││w₂   0││w₃   0│\n",
    "    # │  w₁  ││  w₂  ││  w₃  │  ───▶ axis 2\n",
    "    # │0   w₁││0   w₂││0   w₃│\n",
    "    # └      ┘└      ┘└      ┘\n",
    "    #\n",
    "    # Z.transpose(0, 2, 1).reshape(3, -1)\n",
    "    # ┌                  ┐\n",
    "    # │w₁0 0 w₂0 0 w₃0 0 │\n",
    "    # │0 w₁0 0 w₂0 0 w₃0 │\n",
    "    # │0 0 w₁0 0 w₂0 0 w₃│\n",
    "    # └                  ┘\n",
    "    # Z.transpose(0, 2, 1).reshape(3, -1) @ shapeXforms\n",
    "    #   weighted sum of blendshape transfomrs (3, 4 * num_bones)\n",
    "    #\n",
    "    # Z.transpose(0, 2, 1).reshape(3, -1) @ shapeXforms + np.array([np.eye(3, 4)] * nBones).transpose(1, 0, 2).reshape(3, -1)\n",
    "    #   add 1 to diagonals for every transform (befor was 0)\n",
    "    res = Z.transpose(0, 2, 1).reshape(3, -1) @ shapeXforms + np.array([np.eye(3,4)] * nBones).transpose(1, 0, 2).reshape(3, -1)\n",
    "    return res\n",
    "    #return res.reshape(3, -1, 4).transpose(1, 0, 2)"
   ]
  },
  {
   "cell_type": "code",
   "execution_count": null,
   "id": "a1dd1763-4d35-493c-8f08-fdde05f88a82",
   "metadata": {
    "tags": []
   },
   "outputs": [],
   "source": [
    "np.savez(\"out/result.npz\", rest = npf(rest_pose[:, :3]), quads = quads, weights = npf(Wn).transpose(), restXform = np.array([np.eye(3,4)] * P), shapeXform = shapeXforms)"
   ]
  },
  {
   "cell_type": "code",
   "execution_count": null,
   "id": "7452b431-ce54-499d-b885-0d917bc86c14",
   "metadata": {
    "tags": []
   },
   "outputs": [],
   "source": [
    "for i in range(num_frames):\n",
    "    T = generateXforms(anim_weights[i, :], shapeXforms);\n",
    "    X = npf((Wn.unsqueeze(2) * rest_pose).permute(0, 2, 1).reshape(4*P, -1))\n",
    "    anim_verts = T @ X\n",
    "    igl.write_obj(f\"out/anim_frame{i:05d}.obj\", anim_verts.transpose(), quads)"
   ]
  },
  {
   "cell_type": "code",
   "execution_count": null,
   "id": "928b3fde",
   "metadata": {},
   "outputs": [],
   "source": []
  }
 ],
 "metadata": {
  "kernelspec": {
   "display_name": "Python 3 (ipykernel)",
   "language": "python",
   "name": "python3"
  },
  "language_info": {
   "codemirror_mode": {
    "name": "ipython",
    "version": 3
   },
   "file_extension": ".py",
   "mimetype": "text/x-python",
   "name": "python",
   "nbconvert_exporter": "python",
   "pygments_lexer": "ipython3",
   "version": "3.12.3"
  }
 },
 "nbformat": 4,
 "nbformat_minor": 5
}
